{
 "cells": [
  {
   "cell_type": "code",
   "execution_count": 15,
   "id": "9291e283",
   "metadata": {},
   "outputs": [
    {
     "name": "stdout",
     "output_type": "stream",
     "text": [
      "Requirement already satisfied: pdfplumber in c:\\users\\kavir\\appdata\\local\\programs\\python\\python311\\lib\\site-packages (0.11.6)\n",
      "Requirement already satisfied: pytesseract in c:\\users\\kavir\\appdata\\local\\programs\\python\\python311\\lib\\site-packages (0.3.13)\n",
      "Requirement already satisfied: pdf2image in c:\\users\\kavir\\appdata\\local\\programs\\python\\python311\\lib\\site-packages (1.17.0)\n",
      "Requirement already satisfied: pdfminer.six==20250327 in c:\\users\\kavir\\appdata\\local\\programs\\python\\python311\\lib\\site-packages (from pdfplumber) (20250327)\n",
      "Requirement already satisfied: Pillow>=9.1 in c:\\users\\kavir\\appdata\\local\\programs\\python\\python311\\lib\\site-packages (from pdfplumber) (10.2.0)\n",
      "Requirement already satisfied: pypdfium2>=4.18.0 in c:\\users\\kavir\\appdata\\local\\programs\\python\\python311\\lib\\site-packages (from pdfplumber) (4.30.1)\n",
      "Requirement already satisfied: charset-normalizer>=2.0.0 in c:\\users\\kavir\\appdata\\local\\programs\\python\\python311\\lib\\site-packages (from pdfminer.six==20250327->pdfplumber) (3.3.2)\n",
      "Requirement already satisfied: cryptography>=36.0.0 in c:\\users\\kavir\\appdata\\local\\programs\\python\\python311\\lib\\site-packages (from pdfminer.six==20250327->pdfplumber) (45.0.3)\n",
      "Requirement already satisfied: packaging>=21.3 in c:\\users\\kavir\\appdata\\local\\programs\\python\\python311\\lib\\site-packages (from pytesseract) (23.2)\n",
      "Requirement already satisfied: cffi>=1.14 in c:\\users\\kavir\\appdata\\local\\programs\\python\\python311\\lib\\site-packages (from cryptography>=36.0.0->pdfminer.six==20250327->pdfplumber) (1.16.0)\n",
      "Requirement already satisfied: pycparser in c:\\users\\kavir\\appdata\\local\\programs\\python\\python311\\lib\\site-packages (from cffi>=1.14->cryptography>=36.0.0->pdfminer.six==20250327->pdfplumber) (2.21)\n",
      "Note: you may need to restart the kernel to use updated packages.\n"
     ]
    },
    {
     "name": "stderr",
     "output_type": "stream",
     "text": [
      "\n",
      "[notice] A new release of pip is available: 24.2 -> 25.1.1\n",
      "[notice] To update, run: python.exe -m pip install --upgrade pip\n"
     ]
    }
   ],
   "source": [
    "%pip install pdfplumber pytesseract pdf2image"
   ]
  },
  {
   "cell_type": "code",
   "execution_count": 27,
   "id": "22facae3",
   "metadata": {},
   "outputs": [],
   "source": [
    "import pdfplumber\n",
    "import pytesseract\n",
    "from pdf2image import convert_from_path"
   ]
  },
  {
   "cell_type": "code",
   "execution_count": 28,
   "id": "627985bc",
   "metadata": {},
   "outputs": [],
   "source": [
    "def extract_text_from_pdf(pdf_path):\n",
    "    text = \"\"\n",
    "    try:\n",
    "        # Try direct text extraction\n",
    "        with pdfplumber.open(pdf_path) as pdf:\n",
    "            for page in pdf.pages:\n",
    "                page_text = page. extract_text()\n",
    "                if page_text:\n",
    "                    text += page_text\n",
    "\n",
    "        if text.strip():\n",
    "            return text.strip()\n",
    "    except Exception as e:\n",
    "        print(f\"Direct text extraction failed: {e}\")\n",
    "\n",
    "    # Fallback to OCR for image-based PDFs\n",
    "    print(\"Falling back to OCR for image-based PDF.\")\n",
    "    try:\n",
    "        images = convert_from_path(pdf_path)\n",
    "        for image in images:\n",
    "            page_text = pytesseract.image_to_string(image)\n",
    "            text += page_text + \"\\n\"\n",
    "    except Exception as e:\n",
    "        print(f\"OCR failed: {e}\")\n",
    "\n",
    "    return text.strip()"
   ]
  },
  {
   "cell_type": "code",
   "execution_count": 29,
   "id": "9b47ec59",
   "metadata": {},
   "outputs": [
    {
     "name": "stdout",
     "output_type": "stream",
     "text": [
      "\n",
      "Extracted Text from PDF:\n",
      "ESTELLE DARCY\n",
      "UX DESIGNER\n",
      "123 Anywhere St., Any City | hello@reallygreatsite.com | www.reallygreatsite.com\n",
      "UX Designer with a focus on delivering impactful results, eager to tackle dynamic challenges and apply\n",
      "creativity to craft intuitive user experiences. I have demonstrated proficiency in project management, user-\n",
      "centric problem-solving, and seamless collaboration across teams.\n",
      "AREA OF EXPERTISE\n",
      "Prototyping Tools Interaction Design Accessibility\n",
      "User Research Visual Design Responsive Design\n",
      "KEY ACHIEVEMENTS\n",
      "Market Expansion. Identified untapped markets and launched a system to harness the line market,\n",
      "resulting in a revenue increase of $1.2 Million for Morcelle in 6 months.\n",
      "Revenue Growth. Successful Implementation of a new pricing strategy at XarrowAI increasing deal size\n",
      "by 15% and market cap by $500,000.\n",
      "PROFESSIONAL EXPERIENCE\n",
      "Instant Chartz App, Morcelle Program Jan 2023 - Present\n",
      "Led development of an advanced automation system, achieving a 15% increase in operational\n",
      "efficiency.\n",
      "Streamlined manufacturing processes, reducing production costs by 10%.\n",
      "Implemented preventive maintenance strategies, resulting in a 20% decrease in equipment\n",
      "downtime.\n",
      "System UX Engineer, XarrowAI Industries Feb 2021 - Dec 2022\n",
      "Designed and optimised a robotic control system, realizing a 12% performance improvement.\n",
      "Coordinated testing and validation, ensuring compliance with industry standards.\n",
      "Provided technical expertise, contributing to a 15% reduction in system failures.\n",
      "EDUCATION\n",
      "UX Industrial Basics and General Application Aug 2016 - Oct 2019\n",
      "University of Engineering UX Cohort\n",
      "Major in Automotive Technology.\n",
      "Thesis on \"Technological Advancements within the current Mechatronics Industry”.\n",
      "Bachelor of Design in Process Engineering May 2014 - May 2016\n",
      "Engineering University\n",
      "Relevant coursework in Structural Design and Project Management.\n",
      "ADDITIONAL INFORMATION\n",
      "Languages: English, French, Mandarin.\n",
      "Certifications: Professional Design Engineer (PDE) License, Project Management Tech (PMT).\n",
      "Awards/Activities: Most Innovative Employer of the Year (2021), Overall Best Employee Division\n",
      "Two (2024), Onboarding Project Lead (2023)\n"
     ]
    }
   ],
   "source": [
    "pdf_path = \"Resume.pdf\"\n",
    "resume_text = extract_text_from_pdf(pdf_path)\n",
    "\n",
    "print(\"\\nExtracted Text from PDF:\")\n",
    "print(resume_text)"
   ]
  },
  {
   "cell_type": "code",
   "execution_count": 20,
   "id": "7a6bc990",
   "metadata": {},
   "outputs": [
    {
     "name": "stdout",
     "output_type": "stream",
     "text": [
      "Requirement already satisfied: google.generativeai in c:\\users\\kavir\\appdata\\local\\programs\\python\\python311\\lib\\site-packages (0.8.5)\n",
      "Requirement already satisfied: python-dotenv in c:\\users\\kavir\\appdata\\local\\programs\\python\\python311\\lib\\site-packages (1.0.1)\n",
      "Requirement already satisfied: google-ai-generativelanguage==0.6.15 in c:\\users\\kavir\\appdata\\local\\programs\\python\\python311\\lib\\site-packages (from google.generativeai) (0.6.15)\n",
      "Requirement already satisfied: google-api-core in c:\\users\\kavir\\appdata\\local\\programs\\python\\python311\\lib\\site-packages (from google.generativeai) (2.24.2)\n",
      "Requirement already satisfied: google-api-python-client in c:\\users\\kavir\\appdata\\local\\programs\\python\\python311\\lib\\site-packages (from google.generativeai) (2.170.0)\n",
      "Requirement already satisfied: google-auth>=2.15.0 in c:\\users\\kavir\\appdata\\local\\programs\\python\\python311\\lib\\site-packages (from google.generativeai) (2.40.2)\n",
      "Requirement already satisfied: protobuf in c:\\users\\kavir\\appdata\\local\\programs\\python\\python311\\lib\\site-packages (from google.generativeai) (5.29.5)\n",
      "Requirement already satisfied: pydantic in c:\\users\\kavir\\appdata\\local\\programs\\python\\python311\\lib\\site-packages (from google.generativeai) (2.6.2)\n",
      "Requirement already satisfied: tqdm in c:\\users\\kavir\\appdata\\local\\programs\\python\\python311\\lib\\site-packages (from google.generativeai) (4.66.2)\n",
      "Requirement already satisfied: typing-extensions in c:\\users\\kavir\\appdata\\local\\programs\\python\\python311\\lib\\site-packages (from google.generativeai) (4.13.2)\n",
      "Requirement already satisfied: proto-plus<2.0.0dev,>=1.22.3 in c:\\users\\kavir\\appdata\\local\\programs\\python\\python311\\lib\\site-packages (from google-ai-generativelanguage==0.6.15->google.generativeai) (1.26.1)\n",
      "Requirement already satisfied: googleapis-common-protos<2.0.0,>=1.56.2 in c:\\users\\kavir\\appdata\\local\\programs\\python\\python311\\lib\\site-packages (from google-api-core->google.generativeai) (1.70.0)\n",
      "Requirement already satisfied: requests<3.0.0,>=2.18.0 in c:\\users\\kavir\\appdata\\local\\programs\\python\\python311\\lib\\site-packages (from google-api-core->google.generativeai) (2.31.0)\n",
      "Requirement already satisfied: cachetools<6.0,>=2.0.0 in c:\\users\\kavir\\appdata\\local\\programs\\python\\python311\\lib\\site-packages (from google-auth>=2.15.0->google.generativeai) (5.5.2)\n",
      "Requirement already satisfied: pyasn1-modules>=0.2.1 in c:\\users\\kavir\\appdata\\local\\programs\\python\\python311\\lib\\site-packages (from google-auth>=2.15.0->google.generativeai) (0.4.2)\n",
      "Requirement already satisfied: rsa<5,>=3.1.4 in c:\\users\\kavir\\appdata\\local\\programs\\python\\python311\\lib\\site-packages (from google-auth>=2.15.0->google.generativeai) (4.9.1)\n",
      "Requirement already satisfied: httplib2<1.0.0,>=0.19.0 in c:\\users\\kavir\\appdata\\local\\programs\\python\\python311\\lib\\site-packages (from google-api-python-client->google.generativeai) (0.22.0)\n",
      "Requirement already satisfied: google-auth-httplib2<1.0.0,>=0.2.0 in c:\\users\\kavir\\appdata\\local\\programs\\python\\python311\\lib\\site-packages (from google-api-python-client->google.generativeai) (0.2.0)\n",
      "Requirement already satisfied: uritemplate<5,>=3.0.1 in c:\\users\\kavir\\appdata\\local\\programs\\python\\python311\\lib\\site-packages (from google-api-python-client->google.generativeai) (4.1.1)\n",
      "Requirement already satisfied: annotated-types>=0.4.0 in c:\\users\\kavir\\appdata\\local\\programs\\python\\python311\\lib\\site-packages (from pydantic->google.generativeai) (0.6.0)\n",
      "Requirement already satisfied: pydantic-core==2.16.3 in c:\\users\\kavir\\appdata\\local\\programs\\python\\python311\\lib\\site-packages (from pydantic->google.generativeai) (2.16.3)\n",
      "Requirement already satisfied: colorama in c:\\users\\kavir\\appdata\\local\\programs\\python\\python311\\lib\\site-packages (from tqdm->google.generativeai) (0.4.6)\n",
      "Requirement already satisfied: grpcio<2.0dev,>=1.33.2 in c:\\users\\kavir\\appdata\\local\\programs\\python\\python311\\lib\\site-packages (from google-api-core[grpc]!=2.0.*,!=2.1.*,!=2.10.*,!=2.2.*,!=2.3.*,!=2.4.*,!=2.5.*,!=2.6.*,!=2.7.*,!=2.8.*,!=2.9.*,<3.0.0dev,>=1.34.1->google-ai-generativelanguage==0.6.15->google.generativeai) (1.72.1)\n",
      "Requirement already satisfied: grpcio-status<2.0.dev0,>=1.33.2 in c:\\users\\kavir\\appdata\\local\\programs\\python\\python311\\lib\\site-packages (from google-api-core[grpc]!=2.0.*,!=2.1.*,!=2.10.*,!=2.2.*,!=2.3.*,!=2.4.*,!=2.5.*,!=2.6.*,!=2.7.*,!=2.8.*,!=2.9.*,<3.0.0dev,>=1.34.1->google-ai-generativelanguage==0.6.15->google.generativeai) (1.71.0)\n",
      "Requirement already satisfied: pyparsing!=3.0.0,!=3.0.1,!=3.0.2,!=3.0.3,<4,>=2.4.2 in c:\\users\\kavir\\appdata\\local\\programs\\python\\python311\\lib\\site-packages (from httplib2<1.0.0,>=0.19.0->google-api-python-client->google.generativeai) (3.1.1)\n",
      "Requirement already satisfied: pyasn1<0.7.0,>=0.6.1 in c:\\users\\kavir\\appdata\\local\\programs\\python\\python311\\lib\\site-packages (from pyasn1-modules>=0.2.1->google-auth>=2.15.0->google.generativeai) (0.6.1)\n",
      "Requirement already satisfied: charset-normalizer<4,>=2 in c:\\users\\kavir\\appdata\\local\\programs\\python\\python311\\lib\\site-packages (from requests<3.0.0,>=2.18.0->google-api-core->google.generativeai) (3.3.2)\n",
      "Requirement already satisfied: idna<4,>=2.5 in c:\\users\\kavir\\appdata\\local\\programs\\python\\python311\\lib\\site-packages (from requests<3.0.0,>=2.18.0->google-api-core->google.generativeai) (3.6)\n",
      "Requirement already satisfied: urllib3<3,>=1.21.1 in c:\\users\\kavir\\appdata\\local\\programs\\python\\python311\\lib\\site-packages (from requests<3.0.0,>=2.18.0->google-api-core->google.generativeai) (2.2.1)\n",
      "Requirement already satisfied: certifi>=2017.4.17 in c:\\users\\kavir\\appdata\\local\\programs\\python\\python311\\lib\\site-packages (from requests<3.0.0,>=2.18.0->google-api-core->google.generativeai) (2024.2.2)\n",
      "Note: you may need to restart the kernel to use updated packages.\n"
     ]
    },
    {
     "name": "stderr",
     "output_type": "stream",
     "text": [
      "\n",
      "[notice] A new release of pip is available: 24.2 -> 25.1.1\n",
      "[notice] To update, run: python.exe -m pip install --upgrade pip\n"
     ]
    }
   ],
   "source": [
    "%pip install google.generativeai python-dotenv"
   ]
  },
  {
   "cell_type": "code",
   "execution_count": 30,
   "id": "688e43cc",
   "metadata": {},
   "outputs": [],
   "source": [
    "import google.generativeai as genai\n",
    "import os\n",
    "from dotenv import load_dotenv\n",
    "\n",
    "load_dotenv()\n",
    "genai.configure(api_key=os.getenv(\"GOOGLE_API_KEY\"))\n",
    "model = genai. GenerativeModel(\"gemini-1.5-flash\")"
   ]
  },
  {
   "cell_type": "code",
   "execution_count": 31,
   "id": "8c0e4a29",
   "metadata": {},
   "outputs": [],
   "source": [
    "response = model.generate_content(\"What is the capital of India?\")"
   ]
  },
  {
   "cell_type": "code",
   "execution_count": 32,
   "id": "5623552c",
   "metadata": {},
   "outputs": [
    {
     "name": "stdout",
     "output_type": "stream",
     "text": [
      "response:\n",
      "GenerateContentResponse(\n",
      "    done=True,\n",
      "    iterator=None,\n",
      "    result=protos.GenerateContentResponse({\n",
      "      \"candidates\": [\n",
      "        {\n",
      "          \"content\": {\n",
      "            \"parts\": [\n",
      "              {\n",
      "                \"text\": \"The capital of India is **New Delhi**.\\n\"\n",
      "              }\n",
      "            ],\n",
      "            \"role\": \"model\"\n",
      "          },\n",
      "          \"finish_reason\": \"STOP\",\n",
      "          \"avg_logprobs\": -0.0028182219713926314\n",
      "        }\n",
      "      ],\n",
      "      \"usage_metadata\": {\n",
      "        \"prompt_token_count\": 7,\n",
      "        \"candidates_token_count\": 10,\n",
      "        \"total_token_count\": 17\n",
      "      },\n",
      "      \"model_version\": \"gemini-1.5-flash\"\n",
      "    }),\n",
      ")\n"
     ]
    }
   ],
   "source": [
    "print(response)"
   ]
  },
  {
   "cell_type": "code",
   "execution_count": 33,
   "id": "0787ee34",
   "metadata": {},
   "outputs": [
    {
     "name": "stdout",
     "output_type": "stream",
     "text": [
      "The capital of India is **New Delhi**.\n",
      "\n"
     ]
    }
   ],
   "source": [
    "print(response.text)"
   ]
  },
  {
   "cell_type": "code",
   "execution_count": 34,
   "id": "eab0affd",
   "metadata": {},
   "outputs": [],
   "source": [
    "def analyze_resume(resume_text, job_description=None):\n",
    "    if not resume_text:\n",
    "        return {\"error\": \"Resume text is required for analysis.\"}\n",
    "\n",
    "    model = genai.GenerativeModel(\"gemini-1.5-flash\")\n",
    "\n",
    "    base_prompt = f\"\"\"\n",
    "    You are an experienced HR with Technical Experience in the field of any one job role from\n",
    "    Data Science, Data Analyst, DevOPS, Machine Learning Engineer, Prompt Engineer, AI\n",
    "    Engineer, Full Stack Web Development, Big Data Engineering, Marketing Analyst, Human\n",
    "    Resource Manager, Software Developer your task is to review the provided resume.\n",
    "    Please share your professional evaluation on whether the candidate's profile aligns with\n",
    "    the role.ALso mention Skills he already have and siggest some skills to imorve his resume\n",
    "    alos suggest some course he might take to improve the skills.Highlight the strengths and\n",
    "    weaknesses.\n",
    "\n",
    "    Resume :\n",
    "    {resume_text}\n",
    "    \"\"\"\n",
    "    if job_description:\n",
    "        base_prompt += f\"\"\"\n",
    "        Additionally, compare this resume to the following job description:\n",
    "\n",
    "        Job Description:\n",
    "        {job_description}\n",
    "\n",
    "        Highlight the strengths and weaknesses of the applicant in relation to the specified\n",
    "        job requirements.\n",
    "        \"\"\"\n",
    "\n",
    "    response = model.generate_content(base_prompt)\n",
    "\n",
    "    analysis = response. text.strip()\n",
    "    return analysis"
   ]
  },
  {
   "cell_type": "code",
   "execution_count": 35,
   "id": "4542f5c8",
   "metadata": {},
   "outputs": [
    {
     "name": "stdout",
     "output_type": "stream",
     "text": [
      "## Resume Review: Estelle Darcy\n",
      "\n",
      "**Role Focus:**  As a seasoned HR professional with a technical background in Software Development, I'll review Estelle's resume for a UX Designer role.\n",
      "\n",
      "\n",
      "**Strengths:**\n",
      "\n",
      "* **Quantifiable Achievements:** Estelle effectively uses numbers to showcase her impact in previous roles.  The revenue increases, cost reductions, and efficiency improvements are compelling.\n",
      "* **Demonstrated Skills:**  Her resume clearly highlights relevant skills like prototyping, user research, visual design, interaction design, and responsive design.  The mention of project management skills is also valuable for a UX Designer role.\n",
      "* **Strong Project Experience:**  The descriptions of her roles at Instant Chartz and XarrowAI provide specific examples of her contributions and achievements.\n",
      "* **Multilingualism & Certifications:**  Her fluency in multiple languages and possession of professional certifications (PDE, PMT) are significant assets.\n",
      "* **Awards & Recognition:**  The awards demonstrate her competence and recognition by her peers and employers.\n",
      "\n",
      "**Weaknesses:**\n",
      "\n",
      "* **Lack of UX Design Focus in Experience:** While Estelle lists UX design skills, the descriptions of her roles heavily emphasize operational efficiency, automation, and engineering tasks.  The connection between her listed UX skills and the projects isn't clearly established.  The achievements are impressive, but don't directly translate to UX design accomplishments in a way that a hiring manager will readily understand.\n",
      "* **Education Mismatch:** The resume highlights a background in Automotive Technology and Process Engineering, which is less directly related to UX design than a dedicated UX design degree.  While relevant coursework is mentioned, it doesn't fully address this mismatch.\n",
      "* **Generic Summary:** The summary statement is quite generic and doesn't effectively highlight her unique selling points as a UX Designer.\n",
      "* **Portfolio Absence:** A portfolio showcasing her UX design work is missing. This is a critical omission for a UX Designer role.  A link to an online portfolio should be prominently featured.\n",
      "* **Unclear Role at Instant Chartz:** The description of her role at Instant Chartz focuses heavily on operational efficiency and manufacturing, which are not typically core responsibilities of a UX Designer. This needs clarifying and showcasing her UX contributions.\n",
      "\n",
      "\n",
      "**Skills:**\n",
      "\n",
      "* **Existing Skills:** Prototyping, Interaction Design, Accessibility, User Research, Visual Design, Responsive Design, Project Management, Automation, System Optimization, Process Improvement.\n",
      "* **Skills to Improve:**  UX writing, Information Architecture, Usability Testing, A/B testing, Wireframing, UI design principles (specific tools like Figma, Sketch, Adobe XD),  User journey mapping,  Heuristic evaluation,  Data analytics for UX.\n",
      "\n",
      "\n",
      "**Suggested Courses:**\n",
      "\n",
      "* **UX Design Bootcamp:**  A comprehensive bootcamp will cover all core UX principles and tools.  Many bootcamps offer specialization tracks based on interest (e.g., UX research, UI design).\n",
      "* **User Research Methods:** A dedicated course focusing on conducting effective user research.\n",
      "* **UI Design Principles:**  A course on the fundamentals of UI design and common UI design tools.\n",
      "* **Interaction Design:** A course focusing on designing intuitive and engaging interactions within a digital product.\n",
      "* **Accessibility in UX:** A course on designing inclusive user experiences for people with disabilities.\n",
      "\n",
      "\n",
      "\n",
      "**Overall Assessment:**\n",
      "\n",
      "Estelle possesses impressive technical skills and a proven track record of achieving quantifiable results. However, her resume needs significant revision to better position her as a UX Designer. The lack of a clear connection between her experience and UX design skills, along with the absence of a portfolio, are major drawbacks.  By strengthening her resume with targeted coursework and a compelling portfolio that showcases UX projects, she can significantly improve her chances of securing a UX design position.  She needs to refocus her resume to highlight her UX skills, rather than her engineering achievements, and showcase her portfolio to demonstrate her capabilities as a UX Designer.\n"
     ]
    }
   ],
   "source": [
    "print(analyze_resume(resume_text))"
   ]
  }
 ],
 "metadata": {
  "kernelspec": {
   "display_name": "Python 3",
   "language": "python",
   "name": "python3"
  },
  "language_info": {
   "codemirror_mode": {
    "name": "ipython",
    "version": 3
   },
   "file_extension": ".py",
   "mimetype": "text/x-python",
   "name": "python",
   "nbconvert_exporter": "python",
   "pygments_lexer": "ipython3",
   "version": "3.11.5"
  }
 },
 "nbformat": 4,
 "nbformat_minor": 5
}
